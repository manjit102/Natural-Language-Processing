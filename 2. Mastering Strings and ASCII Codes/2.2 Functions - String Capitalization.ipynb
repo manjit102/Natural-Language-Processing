{
 "cells": [
  {
   "cell_type": "markdown",
   "id": "fdaaa542",
   "metadata": {},
   "source": [
    "# <font color = 'red'>String Capitalization</font>"
   ]
  },
  {
   "cell_type": "code",
   "execution_count": 10,
   "id": "e7097d30",
   "metadata": {},
   "outputs": [],
   "source": [
    "text = 'The quick brown Fox jumps over the lazy Dog.'"
   ]
  },
  {
   "cell_type": "code",
   "execution_count": 11,
   "id": "9188387f",
   "metadata": {},
   "outputs": [
    {
     "data": {
      "text/plain": [
       "'The quick brown Fox jumps over the lazy Dog.'"
      ]
     },
     "execution_count": 11,
     "metadata": {},
     "output_type": "execute_result"
    }
   ],
   "source": [
    "text"
   ]
  },
  {
   "cell_type": "code",
   "execution_count": 12,
   "id": "b3b74855",
   "metadata": {},
   "outputs": [
    {
     "data": {
      "text/plain": [
       "'The quick brown fox jumps over the lazy dog.'"
      ]
     },
     "execution_count": 12,
     "metadata": {},
     "output_type": "execute_result"
    }
   ],
   "source": [
    "text.capitalize()"
   ]
  },
  {
   "cell_type": "code",
   "execution_count": 13,
   "id": "4fd3a8d1",
   "metadata": {},
   "outputs": [
    {
     "data": {
      "text/plain": [
       "'T'"
      ]
     },
     "execution_count": 13,
     "metadata": {},
     "output_type": "execute_result"
    }
   ],
   "source": [
    "text[0].upper()"
   ]
  },
  {
   "cell_type": "code",
   "execution_count": 17,
   "id": "18cdc4c6",
   "metadata": {},
   "outputs": [
    {
     "data": {
      "text/plain": [
       "'he quick brown fox jumps over the lazy dog.'"
      ]
     },
     "execution_count": 17,
     "metadata": {},
     "output_type": "execute_result"
    }
   ],
   "source": [
    "text[1:].lower()"
   ]
  },
  {
   "cell_type": "code",
   "execution_count": 18,
   "id": "209a57fe",
   "metadata": {},
   "outputs": [
    {
     "data": {
      "text/plain": [
       "'The quick brown fox jumps over the lazy dog.'"
      ]
     },
     "execution_count": 18,
     "metadata": {},
     "output_type": "execute_result"
    }
   ],
   "source": [
    "text[0].upper()+text[1:].lower()"
   ]
  },
  {
   "cell_type": "code",
   "execution_count": 16,
   "id": "29e20f62",
   "metadata": {},
   "outputs": [
    {
     "data": {
      "text/plain": [
       "True"
      ]
     },
     "execution_count": 16,
     "metadata": {},
     "output_type": "execute_result"
    }
   ],
   "source": [
    "text.capitalize() == (text[0].upper()+text[1:].lower())"
   ]
  },
  {
   "cell_type": "markdown",
   "id": "520c10cb",
   "metadata": {},
   "source": [
    "## Capitalize Function"
   ]
  },
  {
   "cell_type": "code",
   "execution_count": 51,
   "id": "ec166ee6",
   "metadata": {},
   "outputs": [],
   "source": [
    "def capitalize(text):\n",
    "    if len(text) != 0 :\n",
    "        return text[0].upper()+text[1:].lower()\n",
    "    else:\n",
    "        return None"
   ]
  },
  {
   "cell_type": "code",
   "execution_count": 52,
   "id": "09b924bb",
   "metadata": {},
   "outputs": [
    {
     "data": {
      "text/plain": [
       "'Hbggfrwgc bjkhhuttc dgevh'"
      ]
     },
     "execution_count": 52,
     "metadata": {},
     "output_type": "execute_result"
    }
   ],
   "source": [
    "capitalize('HbggfRwgc bjkhhuttc DGEVH')"
   ]
  },
  {
   "cell_type": "markdown",
   "id": "bfc546b8",
   "metadata": {},
   "source": [
    "## Upper Function"
   ]
  },
  {
   "cell_type": "code",
   "execution_count": 24,
   "id": "1a01c3f4",
   "metadata": {},
   "outputs": [],
   "source": [
    "def upper(text):\n",
    "    string = ''\n",
    "    for char in text:\n",
    "        if (ord(char)>=65 and ord(char)<=90):\n",
    "            string += char\n",
    "        elif (ord(char)>=97 and ord(char)<=122):\n",
    "            char = ord(char)-32\n",
    "            string += chr(char)\n",
    "        else:\n",
    "            string += char\n",
    "    return string"
   ]
  },
  {
   "cell_type": "code",
   "execution_count": 25,
   "id": "41e3e09f",
   "metadata": {},
   "outputs": [
    {
     "data": {
      "text/plain": [
       "'THE QUICK BROWN FOX JUMPS OVER THE LAZY DOG.'"
      ]
     },
     "execution_count": 25,
     "metadata": {},
     "output_type": "execute_result"
    }
   ],
   "source": [
    "upper(text)"
   ]
  },
  {
   "cell_type": "markdown",
   "id": "b50b9a2c",
   "metadata": {},
   "source": [
    "## Lower Function"
   ]
  },
  {
   "cell_type": "code",
   "execution_count": 26,
   "id": "3692788e",
   "metadata": {},
   "outputs": [],
   "source": [
    "def lower(text):\n",
    "    string = ''\n",
    "    for char in text:\n",
    "        if (ord(char)>=97 and ord(char)<=122):\n",
    "            string += char\n",
    "        elif (ord(char)>=65 and ord(char)<=90):\n",
    "            char = ord(char)+32\n",
    "            string += chr(char)\n",
    "        else:\n",
    "            string += char\n",
    "    return string"
   ]
  },
  {
   "cell_type": "code",
   "execution_count": 27,
   "id": "186d8274",
   "metadata": {},
   "outputs": [
    {
     "data": {
      "text/plain": [
       "'the quick brown fox jumps over the lazy dog.'"
      ]
     },
     "execution_count": 27,
     "metadata": {},
     "output_type": "execute_result"
    }
   ],
   "source": [
    "lower(text)"
   ]
  },
  {
   "cell_type": "markdown",
   "id": "d3664f4e",
   "metadata": {},
   "source": [
    "# <font color = \"red\">Checking the Data</font>"
   ]
  },
  {
   "cell_type": "raw",
   "id": "2e6277a0",
   "metadata": {},
   "source": [
    "isalnum()   Returns True if all the characters in string are alphanumeric\n",
    "isalpha()   Returns True if all the characters in string are in the alphabet\n",
    "isdigit()   Returns True if all the characters in string are digit\n",
    "isupper()   Returns True if all the characters in string are upper case\n",
    "islower()   Returns True if all the characters in string are lower case\n",
    "isnumeric() Returns True if all the characters in string are numeric"
   ]
  },
  {
   "cell_type": "markdown",
   "id": "af38122d",
   "metadata": {},
   "source": [
    "## isalpha()"
   ]
  },
  {
   "cell_type": "code",
   "execution_count": 39,
   "id": "01ca2897",
   "metadata": {},
   "outputs": [
    {
     "name": "stdout",
     "output_type": "stream",
     "text": [
      "False\n",
      "False\n"
     ]
    }
   ],
   "source": [
    "def isalpha(text):\n",
    "    c = 0\n",
    "    for i in text:\n",
    "        if ((ord(i)>=65 and ord(i)<=90) or (ord(i)>=97 and ord(i)<=122)):\n",
    "            c += 1\n",
    "    if len(text) == c:\n",
    "        return True\n",
    "    else:\n",
    "        return False\n",
    "    \n",
    "print('Manjit kumar'.isalpha())\n",
    "print(isalpha('Manjit kumar'))"
   ]
  },
  {
   "cell_type": "markdown",
   "id": "6f9dfaff",
   "metadata": {},
   "source": [
    "## isdigit()"
   ]
  },
  {
   "cell_type": "code",
   "execution_count": 44,
   "id": "eddecfb6",
   "metadata": {},
   "outputs": [
    {
     "name": "stdout",
     "output_type": "stream",
     "text": [
      "True\n",
      "True\n"
     ]
    }
   ],
   "source": [
    "def isdigit(text):\n",
    "    c = 0\n",
    "    for i in text:\n",
    "        if ((ord(i)>=48 and ord(i)<=57)):\n",
    "            c += 1\n",
    "    if len(text) == c:\n",
    "        return True\n",
    "    else:\n",
    "        return False\n",
    "    \n",
    "print('123'.isdigit())\n",
    "print(isdigit('123'))"
   ]
  },
  {
   "cell_type": "markdown",
   "id": "3ddf5efa",
   "metadata": {},
   "source": [
    "## isalnum()"
   ]
  },
  {
   "cell_type": "code",
   "execution_count": 50,
   "id": "7fdb5d8e",
   "metadata": {},
   "outputs": [
    {
     "name": "stdout",
     "output_type": "stream",
     "text": [
      "True\n",
      "True\n"
     ]
    }
   ],
   "source": [
    "def isalnum(text):\n",
    "    c = 0\n",
    "    for i in text:\n",
    "        if ((ord(i)>=65 and ord(i)<=90) or (ord(i)>=97 and ord(i)<=122) or (ord(i)>=48 and ord(i)<=57)):\n",
    "            c += 1\n",
    "    if len(text) == c:\n",
    "        return True\n",
    "    else:\n",
    "        return False\n",
    "    \n",
    "print('manjit102kumar'.isalnum())\n",
    "print(isalnum('manjit102kumar'))"
   ]
  },
  {
   "cell_type": "markdown",
   "id": "a2e2b8b1",
   "metadata": {},
   "source": [
    "# <font color = 'red'>Title Function</font>"
   ]
  },
  {
   "cell_type": "code",
   "execution_count": 53,
   "id": "7bcd852f",
   "metadata": {},
   "outputs": [],
   "source": [
    "def title(text):\n",
    "    output = []\n",
    "    for word in text.split(' '):\n",
    "        output.append(upper(word[0])+lower(word[1:]))\n",
    "    return ' '.join(output)"
   ]
  },
  {
   "cell_type": "code",
   "execution_count": 56,
   "id": "ec09b6a6",
   "metadata": {},
   "outputs": [
    {
     "data": {
      "text/plain": [
       "'Manjjufhdf12 Nhdgtduy Bhdyhgtde Hnjhfghf'"
      ]
     },
     "execution_count": 56,
     "metadata": {},
     "output_type": "execute_result"
    }
   ],
   "source": [
    "title('manjjufhdf12 nhdgtduy bhdyhgtde hnjhfghf')"
   ]
  },
  {
   "cell_type": "code",
   "execution_count": null,
   "id": "69be9f0e",
   "metadata": {},
   "outputs": [],
   "source": []
  }
 ],
 "metadata": {
  "kernelspec": {
   "display_name": "Python 3 (ipykernel)",
   "language": "python",
   "name": "python3"
  },
  "language_info": {
   "codemirror_mode": {
    "name": "ipython",
    "version": 3
   },
   "file_extension": ".py",
   "mimetype": "text/x-python",
   "name": "python",
   "nbconvert_exporter": "python",
   "pygments_lexer": "ipython3",
   "version": "3.11.5"
  }
 },
 "nbformat": 4,
 "nbformat_minor": 5
}

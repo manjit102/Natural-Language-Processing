{
 "cells": [
  {
   "cell_type": "markdown",
   "id": "b3ff6e1e",
   "metadata": {},
   "source": [
    "# <font color = 'red'>Library for String Operations</font>"
   ]
  },
  {
   "cell_type": "markdown",
   "id": "081a18e2",
   "metadata": {},
   "source": [
    "### 1. Calling all the function from the file"
   ]
  },
  {
   "cell_type": "code",
   "execution_count": 4,
   "id": "baff4481",
   "metadata": {},
   "outputs": [],
   "source": [
    "import nlp"
   ]
  },
  {
   "cell_type": "code",
   "execution_count": 5,
   "id": "4f1e4c66",
   "metadata": {},
   "outputs": [
    {
     "data": {
      "text/plain": [
       "'Hello, how are you?'"
      ]
     },
     "execution_count": 5,
     "metadata": {},
     "output_type": "execute_result"
    }
   ],
   "source": [
    "nlp.capitalize('Hello, how are you?')"
   ]
  },
  {
   "cell_type": "code",
   "execution_count": 6,
   "id": "a12c1ef4",
   "metadata": {},
   "outputs": [
    {
     "data": {
      "text/plain": [
       "'hello, how are you?'"
      ]
     },
     "execution_count": 6,
     "metadata": {},
     "output_type": "execute_result"
    }
   ],
   "source": [
    "nlp.lower('Hello, how are you?')"
   ]
  },
  {
   "cell_type": "code",
   "execution_count": 7,
   "id": "f6487b5d",
   "metadata": {},
   "outputs": [
    {
     "data": {
      "text/plain": [
       "'Hello, How Are You?'"
      ]
     },
     "execution_count": 7,
     "metadata": {},
     "output_type": "execute_result"
    }
   ],
   "source": [
    "nlp.title('Hello, how are you?')"
   ]
  },
  {
   "cell_type": "markdown",
   "id": "f38d83f4",
   "metadata": {},
   "source": [
    "### 2. Calling the specified function from the file"
   ]
  },
  {
   "cell_type": "code",
   "execution_count": 8,
   "id": "b76f8a59",
   "metadata": {},
   "outputs": [],
   "source": [
    "from nlp import title"
   ]
  },
  {
   "cell_type": "code",
   "execution_count": 9,
   "id": "b7cffa2e",
   "metadata": {},
   "outputs": [
    {
     "data": {
      "text/plain": [
       "'Hello, How Are You?'"
      ]
     },
     "execution_count": 9,
     "metadata": {},
     "output_type": "execute_result"
    }
   ],
   "source": [
    "title('Hello, how are you?')"
   ]
  },
  {
   "cell_type": "code",
   "execution_count": null,
   "id": "c936f43c",
   "metadata": {},
   "outputs": [],
   "source": []
  }
 ],
 "metadata": {
  "kernelspec": {
   "display_name": "Python 3 (ipykernel)",
   "language": "python",
   "name": "python3"
  },
  "language_info": {
   "codemirror_mode": {
    "name": "ipython",
    "version": 3
   },
   "file_extension": ".py",
   "mimetype": "text/x-python",
   "name": "python",
   "nbconvert_exporter": "python",
   "pygments_lexer": "ipython3",
   "version": "3.11.5"
  }
 },
 "nbformat": 4,
 "nbformat_minor": 5
}

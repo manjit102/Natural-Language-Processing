{
 "cells": [
  {
   "cell_type": "markdown",
   "id": "bce33956",
   "metadata": {},
   "source": [
    "# <font color='red'>Corpus and Vocabulary</font>"
   ]
  },
  {
   "cell_type": "code",
   "execution_count": 16,
   "id": "c6a393db",
   "metadata": {},
   "outputs": [],
   "source": [
    "from nltk.tokenize import word_tokenize, sent_tokenize\n",
    "from nltk.corpus import stopwords"
   ]
  },
  {
   "cell_type": "code",
   "execution_count": 9,
   "id": "3aa8e31d",
   "metadata": {},
   "outputs": [
    {
     "data": {
      "text/plain": [
       "'The Republic of India has two principal short names, each of which is historically significant, India and Bharat. A third name, Hindustan, is sometimes an alternative name for the region comprising most of the modern Indian states of the Indian Subcontinent when Indians speak among themselves. The usage of Bharat, Hindustan, or India depends on the context and language of conversation.'"
      ]
     },
     "execution_count": 9,
     "metadata": {},
     "output_type": "execute_result"
    }
   ],
   "source": [
    "corpus = 'The Republic of India has two principal short names, each of which is historically significant, India and Bharat. A third name, Hindustan, is sometimes an alternative name for the region comprising most of the modern Indian states of the Indian Subcontinent when Indians speak among themselves. The usage of Bharat, Hindustan, or India depends on the context and language of conversation.'\n",
    "corpus"
   ]
  },
  {
   "cell_type": "markdown",
   "id": "8ee97a14",
   "metadata": {},
   "source": [
    "### Stop Words Removal"
   ]
  },
  {
   "cell_type": "code",
   "execution_count": 10,
   "id": "32320640",
   "metadata": {},
   "outputs": [],
   "source": [
    "words = []\n",
    "\n",
    "for word in word_tokenize(corpus):\n",
    "    if (word.lower() not in stopwords.words('english')) and len(word) >= 2:\n",
    "        words.append(word.lower())"
   ]
  },
  {
   "cell_type": "code",
   "execution_count": 11,
   "id": "2000e2d1",
   "metadata": {},
   "outputs": [
    {
     "data": {
      "text/plain": [
       "34"
      ]
     },
     "execution_count": 11,
     "metadata": {},
     "output_type": "execute_result"
    }
   ],
   "source": [
    "len(words)"
   ]
  },
  {
   "cell_type": "code",
   "execution_count": 12,
   "id": "11f48e55",
   "metadata": {},
   "outputs": [
    {
     "data": {
      "text/plain": [
       "28"
      ]
     },
     "execution_count": 12,
     "metadata": {},
     "output_type": "execute_result"
    }
   ],
   "source": [
    "len(set(words))"
   ]
  },
  {
   "cell_type": "code",
   "execution_count": 13,
   "id": "7778ae1c",
   "metadata": {},
   "outputs": [
    {
     "data": {
      "text/plain": [
       "70"
      ]
     },
     "execution_count": 13,
     "metadata": {},
     "output_type": "execute_result"
    }
   ],
   "source": [
    "len(word_tokenize(corpus))"
   ]
  },
  {
   "cell_type": "code",
   "execution_count": 14,
   "id": "7f0f5b76",
   "metadata": {},
   "outputs": [],
   "source": [
    "vocab = list(set(words))"
   ]
  },
  {
   "cell_type": "code",
   "execution_count": 15,
   "id": "e24d97ac",
   "metadata": {},
   "outputs": [
    {
     "data": {
      "text/plain": [
       "['names',\n",
       " 'indians',\n",
       " 'principal',\n",
       " 'significant',\n",
       " 'republic',\n",
       " 'sometimes',\n",
       " 'region',\n",
       " 'subcontinent',\n",
       " 'third',\n",
       " 'two',\n",
       " 'alternative',\n",
       " 'short',\n",
       " 'states',\n",
       " 'india',\n",
       " 'hindustan',\n",
       " 'depends',\n",
       " 'name',\n",
       " 'among',\n",
       " 'language',\n",
       " 'indian',\n",
       " 'bharat',\n",
       " 'usage',\n",
       " 'historically',\n",
       " 'speak',\n",
       " 'context',\n",
       " 'conversation',\n",
       " 'comprising',\n",
       " 'modern']"
      ]
     },
     "execution_count": 15,
     "metadata": {},
     "output_type": "execute_result"
    }
   ],
   "source": [
    "vocab"
   ]
  },
  {
   "cell_type": "code",
   "execution_count": 18,
   "id": "62d68d5f",
   "metadata": {},
   "outputs": [
    {
     "name": "stdout",
     "output_type": "stream",
     "text": [
      "The Republic of India has two principal short names, each of which is historically significant, India and Bharat.\n",
      "A third name, Hindustan, is sometimes an alternative name for the region comprising most of the modern Indian states of the Indian Subcontinent when Indians speak among themselves.\n",
      "The usage of Bharat, Hindustan, or India depends on the context and language of conversation.\n"
     ]
    }
   ],
   "source": [
    "for sentence in sent_tokenize(corpus):\n",
    "    print(sentence)"
   ]
  },
  {
   "cell_type": "code",
   "execution_count": 19,
   "id": "e768a211",
   "metadata": {},
   "outputs": [
    {
     "data": {
      "text/plain": [
       "3"
      ]
     },
     "execution_count": 19,
     "metadata": {},
     "output_type": "execute_result"
    }
   ],
   "source": [
    "len(sent_tokenize(corpus))"
   ]
  },
  {
   "cell_type": "code",
   "execution_count": null,
   "id": "89df101c",
   "metadata": {},
   "outputs": [],
   "source": []
  }
 ],
 "metadata": {
  "kernelspec": {
   "display_name": "Python 3 (ipykernel)",
   "language": "python",
   "name": "python3"
  },
  "language_info": {
   "codemirror_mode": {
    "name": "ipython",
    "version": 3
   },
   "file_extension": ".py",
   "mimetype": "text/x-python",
   "name": "python",
   "nbconvert_exporter": "python",
   "pygments_lexer": "ipython3",
   "version": "3.11.5"
  }
 },
 "nbformat": 4,
 "nbformat_minor": 5
}

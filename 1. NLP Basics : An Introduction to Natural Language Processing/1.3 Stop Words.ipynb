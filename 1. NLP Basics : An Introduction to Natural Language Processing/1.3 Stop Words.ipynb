{
 "cells": [
  {
   "cell_type": "markdown",
   "id": "1511af41",
   "metadata": {},
   "source": [
    "# <font color='red'>Stop Words</font>"
   ]
  },
  {
   "cell_type": "code",
   "execution_count": 10,
   "id": "043c9c04",
   "metadata": {},
   "outputs": [],
   "source": [
    "import nltk\n",
    "\n",
    "from nltk.corpus import stopwords\n",
    "from nltk.tokenize import word_tokenize"
   ]
  },
  {
   "cell_type": "code",
   "execution_count": 7,
   "id": "667ef825",
   "metadata": {},
   "outputs": [],
   "source": [
    "stopword = stopwords.words('english')"
   ]
  },
  {
   "cell_type": "code",
   "execution_count": 9,
   "id": "a502bfab",
   "metadata": {},
   "outputs": [
    {
     "data": {
      "text/plain": [
       "179"
      ]
     },
     "execution_count": 9,
     "metadata": {},
     "output_type": "execute_result"
    }
   ],
   "source": [
    "len(stopword)"
   ]
  },
  {
   "cell_type": "code",
   "execution_count": 18,
   "id": "88c73e44",
   "metadata": {},
   "outputs": [],
   "source": [
    "txt = 'This is not a good time to talk. Can we do it now'"
   ]
  },
  {
   "cell_type": "code",
   "execution_count": 19,
   "id": "a432ba23",
   "metadata": {},
   "outputs": [],
   "source": [
    "txt = word_tokenize(txt)"
   ]
  },
  {
   "cell_type": "code",
   "execution_count": 20,
   "id": "1d18b77c",
   "metadata": {},
   "outputs": [
    {
     "name": "stdout",
     "output_type": "stream",
     "text": [
      "This : True\n",
      "is : True\n",
      "not : True\n",
      "a : True\n",
      "good : False\n",
      "time : False\n",
      "to : True\n",
      "talk : False\n",
      ". : False\n",
      "Can : True\n",
      "we : True\n",
      "do : True\n",
      "it : True\n",
      "now : True\n"
     ]
    }
   ],
   "source": [
    "for word in txt:\n",
    "    print(word, word.lower() in stopword, sep=\" : \")"
   ]
  },
  {
   "cell_type": "code",
   "execution_count": 23,
   "id": "abcd3909",
   "metadata": {},
   "outputs": [
    {
     "name": "stdout",
     "output_type": "stream",
     "text": [
      "good\n",
      "time\n",
      "talk\n"
     ]
    }
   ],
   "source": [
    "for word in txt:\n",
    "    if ((word.lower() not in stopword) and len(word)!=1):\n",
    "        print(word)"
   ]
  },
  {
   "cell_type": "code",
   "execution_count": null,
   "id": "d5330305",
   "metadata": {},
   "outputs": [],
   "source": []
  }
 ],
 "metadata": {
  "kernelspec": {
   "display_name": "Python 3 (ipykernel)",
   "language": "python",
   "name": "python3"
  },
  "language_info": {
   "codemirror_mode": {
    "name": "ipython",
    "version": 3
   },
   "file_extension": ".py",
   "mimetype": "text/x-python",
   "name": "python",
   "nbconvert_exporter": "python",
   "pygments_lexer": "ipython3",
   "version": "3.11.5"
  }
 },
 "nbformat": 4,
 "nbformat_minor": 5
}

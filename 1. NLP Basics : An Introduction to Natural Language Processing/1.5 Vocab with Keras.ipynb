{
 "cells": [
  {
   "cell_type": "markdown",
   "id": "77547087",
   "metadata": {},
   "source": [
    "# <font color='red'>Vocab with Keras</font>"
   ]
  },
  {
   "cell_type": "markdown",
   "id": "3bc2de23",
   "metadata": {},
   "source": [
    "### Texts to Sequences"
   ]
  },
  {
   "cell_type": "code",
   "execution_count": 23,
   "id": "3fc117d7",
   "metadata": {},
   "outputs": [
    {
     "data": {
      "text/plain": [
       "{'is': 1, 'coffee': 2, 'hot': 3, 'water': 4, 'cold': 5}"
      ]
     },
     "execution_count": 23,
     "metadata": {},
     "output_type": "execute_result"
    }
   ],
   "source": [
    "from tensorflow.keras.preprocessing.text import Tokenizer\n",
    "\n",
    "tok = Tokenizer()\n",
    "corp = ['coffee is hot','water is cold']\n",
    "\n",
    "tok.fit_on_texts(corp)\n",
    "\n",
    "tok.word_index"
   ]
  },
  {
   "cell_type": "code",
   "execution_count": 24,
   "id": "fc4310b2",
   "metadata": {},
   "outputs": [
    {
     "data": {
      "text/plain": [
       "[[2, 1, 3], [4, 1, 5]]"
      ]
     },
     "execution_count": 24,
     "metadata": {},
     "output_type": "execute_result"
    }
   ],
   "source": [
    "tok.texts_to_sequences(corp)"
   ]
  },
  {
   "cell_type": "code",
   "execution_count": 25,
   "id": "52875f39",
   "metadata": {},
   "outputs": [
    {
     "data": {
      "text/plain": [
       "[[4, 1, 5], [2, 1, 3]]"
      ]
     },
     "execution_count": 25,
     "metadata": {},
     "output_type": "execute_result"
    }
   ],
   "source": [
    "tok.texts_to_sequences(['water is cold','coffee is hot'])"
   ]
  },
  {
   "cell_type": "code",
   "execution_count": 26,
   "id": "867c6ec6",
   "metadata": {},
   "outputs": [
    {
     "data": {
      "text/plain": [
       "[[4, 1, 5], [2, 1, 3]]"
      ]
     },
     "execution_count": 26,
     "metadata": {},
     "output_type": "execute_result"
    }
   ],
   "source": [
    "tok.texts_to_sequences(['water is cold','black coffee is hot'])    # here black is neglected"
   ]
  },
  {
   "cell_type": "markdown",
   "id": "49a737c3",
   "metadata": {},
   "source": [
    "### Adding OOV"
   ]
  },
  {
   "cell_type": "code",
   "execution_count": 27,
   "id": "24338dcd",
   "metadata": {},
   "outputs": [
    {
     "data": {
      "text/plain": [
       "{'black': 1, 'is': 2, 'coffee': 3, 'hot': 4, 'water': 5, 'cold': 6}"
      ]
     },
     "execution_count": 27,
     "metadata": {},
     "output_type": "execute_result"
    }
   ],
   "source": [
    "from tensorflow.keras.preprocessing.text import Tokenizer\n",
    "\n",
    "tok = Tokenizer(oov_token='black')\n",
    "\n",
    "tok.fit_on_texts(corp)\n",
    "\n",
    "tok.word_index"
   ]
  },
  {
   "cell_type": "code",
   "execution_count": 21,
   "id": "cb9cdc8a",
   "metadata": {},
   "outputs": [
    {
     "data": {
      "text/plain": [
       "['coffee is hot', 'water is cold']"
      ]
     },
     "execution_count": 21,
     "metadata": {},
     "output_type": "execute_result"
    }
   ],
   "source": [
    "corp"
   ]
  },
  {
   "cell_type": "code",
   "execution_count": 22,
   "id": "3974c70d",
   "metadata": {},
   "outputs": [
    {
     "data": {
      "text/plain": [
       "[[5, 2, 6], [1, 3, 2, 4]]"
      ]
     },
     "execution_count": 22,
     "metadata": {},
     "output_type": "execute_result"
    }
   ],
   "source": [
    "tok.texts_to_sequences(['water is cold','black coffee is hot'])"
   ]
  },
  {
   "cell_type": "markdown",
   "id": "13ff1e53",
   "metadata": {},
   "source": [
    "### Limiting the number of words"
   ]
  },
  {
   "cell_type": "code",
   "execution_count": 28,
   "id": "ecf75e2d",
   "metadata": {},
   "outputs": [
    {
     "name": "stdout",
     "output_type": "stream",
     "text": [
      "{'is': 1, 'coffee': 2, 'hot': 3, 'water': 4, 'cold': 5}\n"
     ]
    },
    {
     "data": {
      "text/plain": [
       "[[1], [2, 1, 3]]"
      ]
     },
     "execution_count": 28,
     "metadata": {},
     "output_type": "execute_result"
    }
   ],
   "source": [
    "from tensorflow.keras.preprocessing.text import Tokenizer\n",
    "\n",
    "tok = Tokenizer(num_words = 4)\n",
    "\n",
    "tok.fit_on_texts(corp)\n",
    "\n",
    "print(tok.word_index)\n",
    "\n",
    "tok.texts_to_sequences(['water is cold','black coffee is hot'])"
   ]
  },
  {
   "cell_type": "code",
   "execution_count": 29,
   "id": "69da4e8f",
   "metadata": {},
   "outputs": [
    {
     "name": "stdout",
     "output_type": "stream",
     "text": [
      "{'is': 1, 'coffee': 2, 'hot': 3, 'water': 4, 'cold': 5}\n"
     ]
    },
    {
     "data": {
      "text/plain": [
       "[[4, 1, 5], [2, 1, 3]]"
      ]
     },
     "execution_count": 29,
     "metadata": {},
     "output_type": "execute_result"
    }
   ],
   "source": [
    "from tensorflow.keras.preprocessing.text import Tokenizer\n",
    "\n",
    "tok = Tokenizer(num_words = 6)\n",
    "\n",
    "tok.fit_on_texts(corp)\n",
    "\n",
    "print(tok.word_index)\n",
    "\n",
    "tok.texts_to_sequences(['water is cold','black coffee is hot'])"
   ]
  },
  {
   "cell_type": "code",
   "execution_count": null,
   "id": "78ddbf76",
   "metadata": {},
   "outputs": [],
   "source": []
  }
 ],
 "metadata": {
  "kernelspec": {
   "display_name": "Python 3 (ipykernel)",
   "language": "python",
   "name": "python3"
  },
  "language_info": {
   "codemirror_mode": {
    "name": "ipython",
    "version": 3
   },
   "file_extension": ".py",
   "mimetype": "text/x-python",
   "name": "python",
   "nbconvert_exporter": "python",
   "pygments_lexer": "ipython3",
   "version": "3.11.5"
  }
 },
 "nbformat": 4,
 "nbformat_minor": 5
}

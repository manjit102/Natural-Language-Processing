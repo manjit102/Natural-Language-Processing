{
 "cells": [
  {
   "cell_type": "markdown",
   "id": "f277ff84",
   "metadata": {},
   "source": [
    "# <font color =\"red\">Stemming and Lemmatization</font>"
   ]
  },
  {
   "cell_type": "code",
   "execution_count": 1,
   "id": "509a1bda",
   "metadata": {},
   "outputs": [],
   "source": [
    "import nltk"
   ]
  },
  {
   "cell_type": "code",
   "execution_count": 2,
   "id": "2574d3fc",
   "metadata": {},
   "outputs": [],
   "source": [
    "from nltk.stem import WordNetLemmatizer, PorterStemmer"
   ]
  },
  {
   "cell_type": "code",
   "execution_count": 3,
   "id": "04ce23df",
   "metadata": {},
   "outputs": [],
   "source": [
    "stem = PorterStemmer()\n",
    "lem = WordNetLemmatizer()"
   ]
  },
  {
   "cell_type": "markdown",
   "id": "12c38838",
   "metadata": {},
   "source": [
    "## <font color = \"brown\">Lemmatization</font>"
   ]
  },
  {
   "cell_type": "code",
   "execution_count": 9,
   "id": "1bf78c2c",
   "metadata": {},
   "outputs": [
    {
     "name": "stdout",
     "output_type": "stream",
     "text": [
      "change\n",
      "change\n",
      "changer\n",
      "changed\n"
     ]
    }
   ],
   "source": [
    "print(lem.lemmatize(\"change\"))            # it give you the root word which make sense\n",
    "print(lem.lemmatize(\"changes\"))\n",
    "print(lem.lemmatize(\"changer\"))\n",
    "print(lem.lemmatize(\"changed\"))"
   ]
  },
  {
   "cell_type": "markdown",
   "id": "1b8bc377",
   "metadata": {},
   "source": [
    "## <font color = \"brown\">Stemming</font>"
   ]
  },
  {
   "cell_type": "code",
   "execution_count": 8,
   "id": "53927b46",
   "metadata": {},
   "outputs": [
    {
     "name": "stdout",
     "output_type": "stream",
     "text": [
      "chang\n",
      "chang\n",
      "changer\n",
      "chang\n"
     ]
    }
   ],
   "source": [
    "print(stem.stem(\"change\"))                 # it give you the root word which migh not make any sense\n",
    "print(stem.stem(\"changes\"))\n",
    "print(stem.stem(\"changer\"))\n",
    "print(stem.stem(\"changed\"))"
   ]
  },
  {
   "cell_type": "code",
   "execution_count": null,
   "id": "21a0004b",
   "metadata": {},
   "outputs": [],
   "source": []
  }
 ],
 "metadata": {
  "kernelspec": {
   "display_name": "Python 3 (ipykernel)",
   "language": "python",
   "name": "python3"
  },
  "language_info": {
   "codemirror_mode": {
    "name": "ipython",
    "version": 3
   },
   "file_extension": ".py",
   "mimetype": "text/x-python",
   "name": "python",
   "nbconvert_exporter": "python",
   "pygments_lexer": "ipython3",
   "version": "3.11.4"
  }
 },
 "nbformat": 4,
 "nbformat_minor": 5
}

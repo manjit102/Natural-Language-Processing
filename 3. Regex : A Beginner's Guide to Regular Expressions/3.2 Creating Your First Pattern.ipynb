{
 "cells": [
  {
   "cell_type": "code",
   "execution_count": 1,
   "id": "5fdfb186",
   "metadata": {},
   "outputs": [],
   "source": [
    "import re"
   ]
  },
  {
   "cell_type": "markdown",
   "id": "8081fd3d",
   "metadata": {},
   "source": [
    "## 1. Finding Pattern with Specific Ending"
   ]
  },
  {
   "cell_type": "code",
   "execution_count": 3,
   "id": "d3223f0d",
   "metadata": {},
   "outputs": [
    {
     "data": {
      "text/plain": [
       "['at', 'at', 'at', 'at', 'at']"
      ]
     },
     "execution_count": 3,
     "metadata": {},
     "output_type": "execute_result"
    }
   ],
   "source": [
    "re.findall('at', 'The rat sat on the mat and attacked by a cat')"
   ]
  },
  {
   "cell_type": "code",
   "execution_count": 4,
   "id": "d037b819",
   "metadata": {},
   "outputs": [
    {
     "data": {
      "text/plain": [
       "['rat', 'sat', 'mat', ' at', 'cat']"
      ]
     },
     "execution_count": 4,
     "metadata": {},
     "output_type": "execute_result"
    }
   ],
   "source": [
    "re.findall('.at', 'The rat sat on the mat and attacked by a cat')"
   ]
  },
  {
   "cell_type": "code",
   "execution_count": 5,
   "id": "0cd3c2bd",
   "metadata": {},
   "outputs": [
    {
     "data": {
      "text/plain": [
       "['at ', 'at ', 'at ', 'att']"
      ]
     },
     "execution_count": 5,
     "metadata": {},
     "output_type": "execute_result"
    }
   ],
   "source": [
    "re.findall('at.', 'The rat sat on the mat and attacked by a cat')"
   ]
  },
  {
   "cell_type": "markdown",
   "id": "0ce6e239",
   "metadata": {},
   "source": [
    "## 2. Start and End Pattern Matching"
   ]
  },
  {
   "cell_type": "code",
   "execution_count": 6,
   "id": "6f3f7394",
   "metadata": {},
   "outputs": [
    {
     "data": {
      "text/plain": [
       "['4', '2', '3']"
      ]
     },
     "execution_count": 6,
     "metadata": {},
     "output_type": "execute_result"
    }
   ],
   "source": [
    "re.findall('\\d', '4 is divisible by 2 not by 3')"
   ]
  },
  {
   "cell_type": "code",
   "execution_count": 7,
   "id": "a861eb54",
   "metadata": {},
   "outputs": [
    {
     "data": {
      "text/plain": [
       "['3']"
      ]
     },
     "execution_count": 7,
     "metadata": {},
     "output_type": "execute_result"
    }
   ],
   "source": [
    "re.findall('\\d$', '4 is divisible by 2 not by 3')"
   ]
  },
  {
   "cell_type": "code",
   "execution_count": 11,
   "id": "e6388311",
   "metadata": {},
   "outputs": [
    {
     "data": {
      "text/plain": [
       "[]"
      ]
     },
     "execution_count": 11,
     "metadata": {},
     "output_type": "execute_result"
    }
   ],
   "source": [
    "re.findall('\\d$', '4 is divisible by 2 not by ')"
   ]
  },
  {
   "cell_type": "code",
   "execution_count": 9,
   "id": "76386e63",
   "metadata": {},
   "outputs": [
    {
     "data": {
      "text/plain": [
       "['4']"
      ]
     },
     "execution_count": 9,
     "metadata": {},
     "output_type": "execute_result"
    }
   ],
   "source": [
    "re.findall('^\\d', '4 is divisible by 2 not by 3')"
   ]
  },
  {
   "cell_type": "code",
   "execution_count": 12,
   "id": "8f911fe4",
   "metadata": {},
   "outputs": [
    {
     "data": {
      "text/plain": [
       "[]"
      ]
     },
     "execution_count": 12,
     "metadata": {},
     "output_type": "execute_result"
    }
   ],
   "source": [
    "re.findall('^\\d', ' is divisible by 2 not by 3')"
   ]
  },
  {
   "cell_type": "markdown",
   "id": "8f07966b",
   "metadata": {},
   "source": [
    "## 3. Finding Capital Letters"
   ]
  },
  {
   "cell_type": "code",
   "execution_count": 13,
   "id": "55883710",
   "metadata": {},
   "outputs": [
    {
     "data": {
      "text/plain": [
       "['W', 'B', 'H', 'A', 'R', 'A', 'T']"
      ]
     },
     "execution_count": 13,
     "metadata": {},
     "output_type": "execute_result"
    }
   ],
   "source": [
    "re.findall('[A-Z]', 'Welcome to BHARAT')"
   ]
  },
  {
   "cell_type": "markdown",
   "id": "453c97fc",
   "metadata": {},
   "source": [
    "## 4. Finding Small Letters"
   ]
  },
  {
   "cell_type": "code",
   "execution_count": 14,
   "id": "d6a357a8",
   "metadata": {},
   "outputs": [
    {
     "data": {
      "text/plain": [
       "['e', 'l', 'c', 'o', 'm', 'e', 't', 'o']"
      ]
     },
     "execution_count": 14,
     "metadata": {},
     "output_type": "execute_result"
    }
   ],
   "source": [
    "re.findall('[a-z]', 'Welcome to BHARAT')"
   ]
  },
  {
   "cell_type": "markdown",
   "id": "ee36f56a",
   "metadata": {},
   "source": [
    "## 5. Finding Uppercase and Lowercase"
   ]
  },
  {
   "cell_type": "code",
   "execution_count": 15,
   "id": "030032df",
   "metadata": {},
   "outputs": [
    {
     "data": {
      "text/plain": [
       "['W', 'e', 'l', 'c', 'o', 'm', 'e', 't', 'o', 'B', 'H', 'A', 'R', 'A', 'T']"
      ]
     },
     "execution_count": 15,
     "metadata": {},
     "output_type": "execute_result"
    }
   ],
   "source": [
    "re.findall('[A-Za-z]', 'Welcome to BHARAT')"
   ]
  },
  {
   "cell_type": "markdown",
   "id": "2ec8e83f",
   "metadata": {},
   "source": [
    "## 5. Finding Uppercase, Lowercase and Numbers"
   ]
  },
  {
   "cell_type": "code",
   "execution_count": 16,
   "id": "f62a1fd9",
   "metadata": {},
   "outputs": [
    {
     "data": {
      "text/plain": [
       "['W',\n",
       " 'e',\n",
       " 'l',\n",
       " 'c',\n",
       " 'o',\n",
       " 'm',\n",
       " 'e',\n",
       " 't',\n",
       " 'o',\n",
       " 'B',\n",
       " 'H',\n",
       " 'A',\n",
       " 'R',\n",
       " 'A',\n",
       " 'T',\n",
       " '1',\n",
       " '0',\n",
       " '2']"
      ]
     },
     "execution_count": 16,
     "metadata": {},
     "output_type": "execute_result"
    }
   ],
   "source": [
    "re.findall('[A-Za-z0-9]', 'Welcome to BHARAT 102')"
   ]
  },
  {
   "cell_type": "code",
   "execution_count": null,
   "id": "e18d7af6",
   "metadata": {},
   "outputs": [],
   "source": []
  }
 ],
 "metadata": {
  "kernelspec": {
   "display_name": "Python 3 (ipykernel)",
   "language": "python",
   "name": "python3"
  },
  "language_info": {
   "codemirror_mode": {
    "name": "ipython",
    "version": 3
   },
   "file_extension": ".py",
   "mimetype": "text/x-python",
   "name": "python",
   "nbconvert_exporter": "python",
   "pygments_lexer": "ipython3",
   "version": "3.11.5"
  }
 },
 "nbformat": 4,
 "nbformat_minor": 5
}

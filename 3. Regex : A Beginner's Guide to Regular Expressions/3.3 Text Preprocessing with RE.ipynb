{
 "cells": [
  {
   "cell_type": "code",
   "execution_count": 1,
   "id": "7169c28c",
   "metadata": {},
   "outputs": [],
   "source": [
    "import re"
   ]
  },
  {
   "cell_type": "markdown",
   "id": "fe8e4aaa",
   "metadata": {},
   "source": [
    "## 1. Removing the Special Characters"
   ]
  },
  {
   "cell_type": "code",
   "execution_count": 7,
   "id": "b4bd70c9",
   "metadata": {},
   "outputs": [],
   "source": [
    "txt = 'Eshan*t is ha%ppy! But, w@hy is he no$t playing?'"
   ]
  },
  {
   "cell_type": "code",
   "execution_count": 8,
   "id": "d0948f54",
   "metadata": {},
   "outputs": [
    {
     "data": {
      "text/plain": [
       "'Eshant is happy But, why is he not playing?'"
      ]
     },
     "execution_count": 8,
     "metadata": {},
     "output_type": "execute_result"
    }
   ],
   "source": [
    "''.join(re.findall('[^!*@%$]',txt))"
   ]
  },
  {
   "cell_type": "code",
   "execution_count": 11,
   "id": "df22fcca",
   "metadata": {},
   "outputs": [
    {
     "data": {
      "text/plain": [
       "['Eshan', 't is ha', 'ppy', ' But, w', 'hy is he no', 't playing?']"
      ]
     },
     "execution_count": 11,
     "metadata": {},
     "output_type": "execute_result"
    }
   ],
   "source": [
    "re.findall('[^!@$*%]+',txt)"
   ]
  },
  {
   "cell_type": "code",
   "execution_count": 13,
   "id": "3fc888c8",
   "metadata": {},
   "outputs": [
    {
     "data": {
      "text/plain": [
       "'Eshant is happy But, why is he not playing'"
      ]
     },
     "execution_count": 13,
     "metadata": {},
     "output_type": "execute_result"
    }
   ],
   "source": [
    "''.join(re.findall('[^!@$*%?]+',txt))"
   ]
  },
  {
   "cell_type": "markdown",
   "id": "06a7cbf0",
   "metadata": {},
   "source": [
    "## 2. Exclusion"
   ]
  },
  {
   "cell_type": "code",
   "execution_count": 17,
   "id": "cedac9ff",
   "metadata": {},
   "outputs": [
    {
     "name": "stdout",
     "output_type": "stream",
     "text": [
      "['21']\n"
     ]
    }
   ],
   "source": [
    "txt = \"I'm Manjit Kumar and 21\"\n",
    "\n",
    "print(re.findall('\\d\\d', txt))"
   ]
  },
  {
   "cell_type": "code",
   "execution_count": 19,
   "id": "a62e0294",
   "metadata": {},
   "outputs": [
    {
     "name": "stdout",
     "output_type": "stream",
     "text": [
      "I'm Manjit Kumar and \n"
     ]
    }
   ],
   "source": [
    "txt = \"I'm Manjit Kumar and 21\"\n",
    "\n",
    "print(''.join(re.findall('\\D', txt)))"
   ]
  },
  {
   "cell_type": "markdown",
   "id": "0125dd6c",
   "metadata": {},
   "source": [
    "## 3. Finding Patterns like Jai-Maa-Bharti"
   ]
  },
  {
   "cell_type": "code",
   "execution_count": 20,
   "id": "2a2fce60",
   "metadata": {},
   "outputs": [],
   "source": [
    "txt = \"Hello I am a member of Jai-Maa-Bharti and it is amazing. Let's see how this work-it-out\""
   ]
  },
  {
   "cell_type": "code",
   "execution_count": 29,
   "id": "9f1b58cc",
   "metadata": {},
   "outputs": [
    {
     "data": {
      "text/plain": [
       "['Jai-Maa-Bharti', 'work-it-out']"
      ]
     },
     "execution_count": 29,
     "metadata": {},
     "output_type": "execute_result"
    }
   ],
   "source": [
    "re.findall('[\\w]+-[\\w]+-[\\w]+',txt)"
   ]
  },
  {
   "cell_type": "markdown",
   "id": "3ee076c3",
   "metadata": {},
   "source": [
    "## 4. Phone No. Pattern Matching"
   ]
  },
  {
   "cell_type": "code",
   "execution_count": 33,
   "id": "b8b12307",
   "metadata": {},
   "outputs": [
    {
     "name": "stdout",
     "output_type": "stream",
     "text": [
      "['123-4567-899']\n",
      "['999-8888-777']\n",
      "['333-4444-123']\n",
      "['1-9854-55555']\n"
     ]
    }
   ],
   "source": [
    "for i in [\"123-4567-899\",\"999-8888-777\",\"333-4444-123\",\"1-9854-55555\"]:\n",
    "    print(re.findall('[\\d]+-[\\d]+-[\\d]+', i))"
   ]
  },
  {
   "cell_type": "code",
   "execution_count": 35,
   "id": "e6efa611",
   "metadata": {},
   "outputs": [
    {
     "name": "stdout",
     "output_type": "stream",
     "text": [
      "1234567899\n",
      "9998888777\n",
      "3334444123\n",
      "1985455555\n"
     ]
    }
   ],
   "source": [
    "for i in [\"123-4567-899\",\"999-8888-777\",\"333-4444-123\",\"1-9854-55555\"]:\n",
    "    print(str(re.findall('[\\d]+-[\\d]+-[\\d]+', i)[0]).replace(\"-\", \"\"))"
   ]
  },
  {
   "cell_type": "code",
   "execution_count": null,
   "id": "73850bca",
   "metadata": {},
   "outputs": [],
   "source": []
  }
 ],
 "metadata": {
  "kernelspec": {
   "display_name": "Python 3 (ipykernel)",
   "language": "python",
   "name": "python3"
  },
  "language_info": {
   "codemirror_mode": {
    "name": "ipython",
    "version": 3
   },
   "file_extension": ".py",
   "mimetype": "text/x-python",
   "name": "python",
   "nbconvert_exporter": "python",
   "pygments_lexer": "ipython3",
   "version": "3.11.5"
  }
 },
 "nbformat": 4,
 "nbformat_minor": 5
}

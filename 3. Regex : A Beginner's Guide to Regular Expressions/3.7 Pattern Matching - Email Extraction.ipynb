{
 "cells": [
  {
   "cell_type": "markdown",
   "id": "e82bc82f",
   "metadata": {},
   "source": [
    "## Pattern Matching - Email Extraction"
   ]
  },
  {
   "cell_type": "code",
   "execution_count": 5,
   "id": "7e2ceb04",
   "metadata": {},
   "outputs": [],
   "source": [
    "mails = ['manjit@gmail.com','manjit@jaimaabharti.org','manjit@orkut.com',\n",
    "         'manjit@yahoo.com','manjit.kumar@jaimaabharti.org',\n",
    "         'manjit@jmb.co.in','manjit@jmb.gov.in']"
   ]
  },
  {
   "cell_type": "code",
   "execution_count": 13,
   "id": "27dd3404",
   "metadata": {},
   "outputs": [],
   "source": [
    "user_id = []\n",
    "host_name = []\n",
    "domain_type = []\n",
    "\n",
    "for mail in mails:\n",
    "    user_id.append(mail.split('@')[0])\n",
    "    host_name.append(mail.split('@')[1].split('.')[0])\n",
    "    domain_type.append('.'.join(mail.split('@')[1].split('.')[1:]))"
   ]
  },
  {
   "cell_type": "code",
   "execution_count": 14,
   "id": "fdb336a2",
   "metadata": {},
   "outputs": [
    {
     "data": {
      "text/plain": [
       "['manjit', 'manjit', 'manjit', 'manjit', 'manjit.kumar', 'manjit', 'manjit']"
      ]
     },
     "execution_count": 14,
     "metadata": {},
     "output_type": "execute_result"
    }
   ],
   "source": [
    "user_id"
   ]
  },
  {
   "cell_type": "code",
   "execution_count": 15,
   "id": "96d5791f",
   "metadata": {},
   "outputs": [
    {
     "data": {
      "text/plain": [
       "['gmail', 'jaimaabharti', 'orkut', 'yahoo', 'jaimaabharti', 'jmb', 'jmb']"
      ]
     },
     "execution_count": 15,
     "metadata": {},
     "output_type": "execute_result"
    }
   ],
   "source": [
    "host_name"
   ]
  },
  {
   "cell_type": "code",
   "execution_count": 16,
   "id": "9bd6afad",
   "metadata": {},
   "outputs": [
    {
     "data": {
      "text/plain": [
       "['com', 'org', 'com', 'com', 'org', 'co.in', 'gov.in']"
      ]
     },
     "execution_count": 16,
     "metadata": {},
     "output_type": "execute_result"
    }
   ],
   "source": [
    "domain_type"
   ]
  },
  {
   "cell_type": "markdown",
   "id": "546b36f5",
   "metadata": {},
   "source": []
  }
 ],
 "metadata": {
  "kernelspec": {
   "display_name": "Python 3 (ipykernel)",
   "language": "python",
   "name": "python3"
  },
  "language_info": {
   "codemirror_mode": {
    "name": "ipython",
    "version": 3
   },
   "file_extension": ".py",
   "mimetype": "text/x-python",
   "name": "python",
   "nbconvert_exporter": "python",
   "pygments_lexer": "ipython3",
   "version": "3.11.5"
  }
 },
 "nbformat": 4,
 "nbformat_minor": 5
}

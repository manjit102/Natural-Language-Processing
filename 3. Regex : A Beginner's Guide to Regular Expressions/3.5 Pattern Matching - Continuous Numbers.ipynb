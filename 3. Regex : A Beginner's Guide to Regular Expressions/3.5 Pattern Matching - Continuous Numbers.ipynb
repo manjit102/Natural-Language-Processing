{
 "cells": [
  {
   "cell_type": "markdown",
   "id": "f99fbdb4",
   "metadata": {},
   "source": [
    "## 1. Continuous Numbers"
   ]
  },
  {
   "cell_type": "code",
   "execution_count": 27,
   "id": "c4190d28",
   "metadata": {},
   "outputs": [],
   "source": [
    "def contnum(text):\n",
    "    c = 0\n",
    "    num = []\n",
    "    for i in range(len(text)):\n",
    "        if text[i].isdigit():\n",
    "            if c == 0:\n",
    "                st = i\n",
    "            c += 1\n",
    "        else:\n",
    "            if c != 0:\n",
    "                end = i\n",
    "                num.append(text[st:end])\n",
    "            c = 0\n",
    "    if c != 0:\n",
    "        num.append(text[-c:])\n",
    "    return num"
   ]
  },
  {
   "cell_type": "code",
   "execution_count": 28,
   "id": "d8fd1bed",
   "metadata": {},
   "outputs": [
    {
     "name": "stdout",
     "output_type": "stream",
     "text": [
      "454\n",
      "87\n",
      "102\n",
      "1021\n",
      "87756564\n",
      "87654398\n",
      "41\n",
      "25\n",
      "145\n",
      "205\n"
     ]
    }
   ],
   "source": [
    "text = 'The nu454m87b102er1021 is 87756564 not 87654398.41 25 145 205'\n",
    "\n",
    "for i in contnum(text):\n",
    "    print(i)"
   ]
  },
  {
   "cell_type": "code",
   "execution_count": null,
   "id": "cd8748ee",
   "metadata": {},
   "outputs": [],
   "source": []
  }
 ],
 "metadata": {
  "kernelspec": {
   "display_name": "Python 3 (ipykernel)",
   "language": "python",
   "name": "python3"
  },
  "language_info": {
   "codemirror_mode": {
    "name": "ipython",
    "version": 3
   },
   "file_extension": ".py",
   "mimetype": "text/x-python",
   "name": "python",
   "nbconvert_exporter": "python",
   "pygments_lexer": "ipython3",
   "version": "3.11.5"
  }
 },
 "nbformat": 4,
 "nbformat_minor": 5
}

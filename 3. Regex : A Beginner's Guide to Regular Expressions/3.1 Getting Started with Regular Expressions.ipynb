{
 "cells": [
  {
   "cell_type": "markdown",
   "id": "5cd3b8cb",
   "metadata": {},
   "source": [
    "# <font color ='red'>Getting Started with Regular Expressions</font>"
   ]
  },
  {
   "cell_type": "code",
   "execution_count": 8,
   "id": "a1c0ace2",
   "metadata": {},
   "outputs": [],
   "source": [
    "import re"
   ]
  },
  {
   "cell_type": "code",
   "execution_count": 13,
   "id": "1ce45296",
   "metadata": {},
   "outputs": [
    {
     "data": {
      "text/plain": [
       "'Hey, how are you ?'"
      ]
     },
     "execution_count": 13,
     "metadata": {},
     "output_type": "execute_result"
    }
   ],
   "source": [
    "'Hey, how are you ?'"
   ]
  },
  {
   "cell_type": "code",
   "execution_count": 14,
   "id": "71f78dd2",
   "metadata": {},
   "outputs": [
    {
     "data": {
      "text/plain": [
       "True"
      ]
     },
     "execution_count": 14,
     "metadata": {},
     "output_type": "execute_result"
    }
   ],
   "source": [
    "'you' in 'Hey, how are you ?'"
   ]
  },
  {
   "cell_type": "code",
   "execution_count": 15,
   "id": "f4b89fdc",
   "metadata": {},
   "outputs": [
    {
     "data": {
      "text/plain": [
       "False"
      ]
     },
     "execution_count": 15,
     "metadata": {},
     "output_type": "execute_result"
    }
   ],
   "source": [
    "'You' in 'Hey, how are you ?'"
   ]
  },
  {
   "cell_type": "code",
   "execution_count": 16,
   "id": "7ae93eb5",
   "metadata": {},
   "outputs": [
    {
     "data": {
      "text/plain": [
       "True"
      ]
     },
     "execution_count": 16,
     "metadata": {},
     "output_type": "execute_result"
    }
   ],
   "source": [
    "'You'.lower() in 'Hey, how are you ?'.lower()"
   ]
  },
  {
   "cell_type": "markdown",
   "id": "477b03ac",
   "metadata": {},
   "source": [
    "## 1. Searching only for Once"
   ]
  },
  {
   "cell_type": "code",
   "execution_count": 9,
   "id": "7d04d1d5",
   "metadata": {},
   "outputs": [],
   "source": [
    "srch = re.search('you', 'Hey, how are you ?')"
   ]
  },
  {
   "cell_type": "code",
   "execution_count": 10,
   "id": "7545f594",
   "metadata": {},
   "outputs": [
    {
     "data": {
      "text/plain": [
       "(13, 16)"
      ]
     },
     "execution_count": 10,
     "metadata": {},
     "output_type": "execute_result"
    }
   ],
   "source": [
    "srch.span()"
   ]
  },
  {
   "cell_type": "code",
   "execution_count": 11,
   "id": "7c1dedcd",
   "metadata": {},
   "outputs": [
    {
     "data": {
      "text/plain": [
       "13"
      ]
     },
     "execution_count": 11,
     "metadata": {},
     "output_type": "execute_result"
    }
   ],
   "source": [
    "srch.start()"
   ]
  },
  {
   "cell_type": "code",
   "execution_count": 12,
   "id": "02f09c59",
   "metadata": {},
   "outputs": [
    {
     "data": {
      "text/plain": [
       "16"
      ]
     },
     "execution_count": 12,
     "metadata": {},
     "output_type": "execute_result"
    }
   ],
   "source": [
    "srch.end()"
   ]
  },
  {
   "cell_type": "code",
   "execution_count": 23,
   "id": "ea0d5fcf",
   "metadata": {},
   "outputs": [
    {
     "data": {
      "text/plain": [
       "<re.Match object; span=(9, 12), match='are'>"
      ]
     },
     "execution_count": 23,
     "metadata": {},
     "output_type": "execute_result"
    }
   ],
   "source": [
    "a = 'Hey, how are are are you ?'                # only first search is giving\n",
    "b = 'are'\n",
    "\n",
    "re.search(b,a)"
   ]
  },
  {
   "cell_type": "code",
   "execution_count": 22,
   "id": "8601d129",
   "metadata": {},
   "outputs": [
    {
     "data": {
      "text/plain": [
       "<re.Match object; span=(9, 12), match='are'>"
      ]
     },
     "execution_count": 22,
     "metadata": {},
     "output_type": "execute_result"
    }
   ],
   "source": [
    "a = 'Hey, how area you ?'                # only first search is giving\n",
    "b = 'are'\n",
    "\n",
    "re.search(b,a)"
   ]
  },
  {
   "cell_type": "markdown",
   "id": "04fd3792",
   "metadata": {},
   "source": [
    "## 2. Findall"
   ]
  },
  {
   "cell_type": "code",
   "execution_count": 26,
   "id": "c397a7c1",
   "metadata": {},
   "outputs": [
    {
     "data": {
      "text/plain": [
       "['are', 'are', 'are', 'are']"
      ]
     },
     "execution_count": 26,
     "metadata": {},
     "output_type": "execute_result"
    }
   ],
   "source": [
    "a = 'Hey, how are are are  area you ?'                \n",
    "b = 'are'\n",
    "\n",
    "re.findall(b,a)"
   ]
  },
  {
   "cell_type": "code",
   "execution_count": 27,
   "id": "da104f77",
   "metadata": {},
   "outputs": [
    {
     "data": {
      "text/plain": [
       "4"
      ]
     },
     "execution_count": 27,
     "metadata": {},
     "output_type": "execute_result"
    }
   ],
   "source": [
    "a = 'Hey, how are are are  area you ?'                \n",
    "b = 'are'\n",
    "\n",
    "len(re.findall(b,a))"
   ]
  },
  {
   "cell_type": "markdown",
   "id": "2a64270b",
   "metadata": {},
   "source": [
    "## 3. Finditer"
   ]
  },
  {
   "cell_type": "code",
   "execution_count": 28,
   "id": "675163ca",
   "metadata": {},
   "outputs": [
    {
     "name": "stdout",
     "output_type": "stream",
     "text": [
      "(9, 12)\n",
      "(13, 16)\n",
      "(17, 20)\n",
      "(22, 25)\n"
     ]
    }
   ],
   "source": [
    "a = 'Hey, how are are are  area you ?'                \n",
    "b = 'are'\n",
    "\n",
    "for s in re.finditer(b,a):\n",
    "    print(s.span())"
   ]
  },
  {
   "cell_type": "markdown",
   "id": "f575c846",
   "metadata": {},
   "source": [
    "## 4. Creating Regular Expressions"
   ]
  },
  {
   "cell_type": "code",
   "execution_count": 29,
   "id": "53e68d33",
   "metadata": {},
   "outputs": [
    {
     "data": {
      "text/plain": [
       "<re.Match object; span=(23, 33), match='9988776655'>"
      ]
     },
     "execution_count": 29,
     "metadata": {},
     "output_type": "execute_result"
    }
   ],
   "source": [
    "text = 'My telephone number is 9988776655'\n",
    "\n",
    "pattern = '\\d\\d\\d\\d\\d\\d\\d\\d\\d\\d'\n",
    "\n",
    "re.search(pattern, text)"
   ]
  },
  {
   "cell_type": "code",
   "execution_count": 30,
   "id": "f365a234",
   "metadata": {},
   "outputs": [
    {
     "data": {
      "text/plain": [
       "<re.Match object; span=(23, 30), match='9988776'>"
      ]
     },
     "execution_count": 30,
     "metadata": {},
     "output_type": "execute_result"
    }
   ],
   "source": [
    "text = 'My telephone number is 9988776655'\n",
    "\n",
    "pattern = '\\d\\d\\d\\d\\d\\d\\d'\n",
    "\n",
    "re.search(pattern, text)"
   ]
  },
  {
   "cell_type": "code",
   "execution_count": 31,
   "id": "c9e67198",
   "metadata": {},
   "outputs": [
    {
     "data": {
      "text/plain": [
       "<re.Match object; span=(23, 35), match='998-8776-655'>"
      ]
     },
     "execution_count": 31,
     "metadata": {},
     "output_type": "execute_result"
    }
   ],
   "source": [
    "text = 'My telephone number is 998-8776-655'\n",
    "\n",
    "pattern = '\\d\\d\\d-\\d\\d\\d\\d-\\d\\d\\d'\n",
    "\n",
    "re.search(pattern, text)"
   ]
  },
  {
   "cell_type": "code",
   "execution_count": 35,
   "id": "4472241d",
   "metadata": {},
   "outputs": [
    {
     "data": {
      "text/plain": [
       "<re.Match object; span=(23, 35), match='998-8776-655'>"
      ]
     },
     "execution_count": 35,
     "metadata": {},
     "output_type": "execute_result"
    }
   ],
   "source": [
    "text = 'My telephone number is 998-8776-655'\n",
    "\n",
    "pattern = '\\d{3}-\\d{4}-\\d{3}'\n",
    "\n",
    "re.search(pattern, text)"
   ]
  },
  {
   "cell_type": "code",
   "execution_count": 37,
   "id": "80558ed8",
   "metadata": {},
   "outputs": [
    {
     "data": {
      "text/plain": [
       "'998-8776-655'"
      ]
     },
     "execution_count": 37,
     "metadata": {},
     "output_type": "execute_result"
    }
   ],
   "source": [
    "text = 'My telephone number is 998-8776-655'\n",
    "\n",
    "pattern = '\\d{3}-\\d{4}-\\d{3}'\n",
    "\n",
    "re.search(pattern, text).group()"
   ]
  },
  {
   "cell_type": "code",
   "execution_count": 32,
   "id": "2b44b277",
   "metadata": {},
   "outputs": [
    {
     "data": {
      "text/plain": [
       "<re.Match object; span=(0, 2), match='My'>"
      ]
     },
     "execution_count": 32,
     "metadata": {},
     "output_type": "execute_result"
    }
   ],
   "source": [
    "text = 'My telephone number is 9988776655'\n",
    "\n",
    "pattern = '\\w\\w'\n",
    "\n",
    "re.search(pattern, text)"
   ]
  },
  {
   "cell_type": "code",
   "execution_count": 33,
   "id": "7fb705b7",
   "metadata": {},
   "outputs": [
    {
     "data": {
      "text/plain": [
       "<re.Match object; span=(3, 8), match='telep'>"
      ]
     },
     "execution_count": 33,
     "metadata": {},
     "output_type": "execute_result"
    }
   ],
   "source": [
    "text = 'My telephone number is 9988776655'\n",
    "\n",
    "pattern = '\\w\\w\\w\\w\\w'\n",
    "\n",
    "re.search(pattern, text)"
   ]
  },
  {
   "cell_type": "code",
   "execution_count": null,
   "id": "48f69aac",
   "metadata": {},
   "outputs": [],
   "source": []
  }
 ],
 "metadata": {
  "kernelspec": {
   "display_name": "Python 3 (ipykernel)",
   "language": "python",
   "name": "python3"
  },
  "language_info": {
   "codemirror_mode": {
    "name": "ipython",
    "version": 3
   },
   "file_extension": ".py",
   "mimetype": "text/x-python",
   "name": "python",
   "nbconvert_exporter": "python",
   "pygments_lexer": "ipython3",
   "version": "3.11.5"
  }
 },
 "nbformat": 4,
 "nbformat_minor": 5
}

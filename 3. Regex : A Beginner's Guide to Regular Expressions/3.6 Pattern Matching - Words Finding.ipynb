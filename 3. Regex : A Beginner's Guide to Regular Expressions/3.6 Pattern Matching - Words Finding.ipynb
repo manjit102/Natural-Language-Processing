{
 "cells": [
  {
   "cell_type": "markdown",
   "id": "d3642b60",
   "metadata": {},
   "source": [
    "## Words Finding"
   ]
  },
  {
   "cell_type": "code",
   "execution_count": 17,
   "id": "5b48f741",
   "metadata": {},
   "outputs": [],
   "source": [
    "text = 'Diwali, the festival of lights is an annual celebration in the month of October or November. And today is the festival of lights.'\n",
    "word = 'of'"
   ]
  },
  {
   "cell_type": "code",
   "execution_count": 16,
   "id": "1a5826e3",
   "metadata": {},
   "outputs": [
    {
     "name": "stdout",
     "output_type": "stream",
     "text": [
      "(8, 11)\n",
      "(59, 62)\n",
      "(106, 109)\n"
     ]
    }
   ],
   "source": [
    "for i in range(len(text)):\n",
    "    if (text[i:i+len(word)] == word):\n",
    "        print((i,i+len(word)))"
   ]
  },
  {
   "cell_type": "markdown",
   "id": "9ab38f0a",
   "metadata": {},
   "source": [
    "## Word - Words Starting from Specific Characters"
   ]
  },
  {
   "cell_type": "code",
   "execution_count": 26,
   "id": "3e78225d",
   "metadata": {},
   "outputs": [
    {
     "name": "stdout",
     "output_type": "stream",
     "text": [
      "industries.\n",
      "Industry\n"
     ]
    }
   ],
   "source": [
    "text = 'AI is having the capability to revolutionize all the industries. The Industry is ready for big change.'\n",
    "word = 'in'\n",
    "\n",
    "for i in text.split(' '):\n",
    "    if (i[:len(word)].lower()==word.lower()):\n",
    "        print(i)"
   ]
  },
  {
   "cell_type": "markdown",
   "id": "65299cff",
   "metadata": {},
   "source": [
    "## Word - Words ending with Special Characters"
   ]
  },
  {
   "cell_type": "code",
   "execution_count": 28,
   "id": "306c54fc",
   "metadata": {},
   "outputs": [
    {
     "name": "stdout",
     "output_type": "stream",
     "text": [
      "capability\n",
      "Industry\n",
      "ready\n"
     ]
    }
   ],
   "source": [
    "text = 'AI is having the capability to revolutionize all the industries. The Industry is ready for big change.'\n",
    "word = 'y'\n",
    "\n",
    "for wrd in text.split(' '):\n",
    "    if (wrd[-len(word):].lower()==word.lower()):\n",
    "        print(wrd)"
   ]
  },
  {
   "cell_type": "code",
   "execution_count": 33,
   "id": "83865231",
   "metadata": {},
   "outputs": [
    {
     "name": "stdout",
     "output_type": "stream",
     "text": [
      "AI is\n",
      "is having\n",
      "having the\n",
      "the capability\n",
      "capability to\n",
      "to revolutionize\n",
      "revolutionize all\n",
      "all the\n",
      "the industries.\n",
      "industries. The\n",
      "The Industry\n",
      "Industry is\n",
      "is ready\n",
      "ready for\n",
      "for big\n",
      "big change.\n"
     ]
    }
   ],
   "source": [
    "text = 'AI is having the capability to revolutionize all the industries. The Industry is ready for big change.'\n",
    "\n",
    "for i in range(len(text.split(' '))-1):\n",
    "    print(text.split(' ')[i],text.split(' ')[i+1])"
   ]
  },
  {
   "cell_type": "code",
   "execution_count": null,
   "id": "8d1f3089",
   "metadata": {},
   "outputs": [],
   "source": []
  }
 ],
 "metadata": {
  "kernelspec": {
   "display_name": "Python 3 (ipykernel)",
   "language": "python",
   "name": "python3"
  },
  "language_info": {
   "codemirror_mode": {
    "name": "ipython",
    "version": 3
   },
   "file_extension": ".py",
   "mimetype": "text/x-python",
   "name": "python",
   "nbconvert_exporter": "python",
   "pygments_lexer": "ipython3",
   "version": "3.11.5"
  }
 },
 "nbformat": 4,
 "nbformat_minor": 5
}

{
 "cells": [
  {
   "cell_type": "code",
   "execution_count": 10,
   "id": "c48b6abb",
   "metadata": {},
   "outputs": [
    {
     "data": {
      "text/plain": [
       "<re.Match object; span=(0, 19), match='manjitkumar@jmb.org'>"
      ]
     },
     "execution_count": 10,
     "metadata": {},
     "output_type": "execute_result"
    }
   ],
   "source": [
    "import re\n",
    "\n",
    "mail = 'manjitkumar@jmb.org'\n",
    "\n",
    "p = '[A-Za-z0-9]+@[\\w]+.[\\w]+'\n",
    "\n",
    "re.search(p,mail)"
   ]
  },
  {
   "cell_type": "code",
   "execution_count": 13,
   "id": "c24f97b3",
   "metadata": {},
   "outputs": [
    {
     "data": {
      "text/plain": [
       "'manjit841420@gmail.com'"
      ]
     },
     "execution_count": 13,
     "metadata": {},
     "output_type": "execute_result"
    }
   ],
   "source": [
    "re.search(p, 'manjit841420@gmail.com').group()"
   ]
  },
  {
   "cell_type": "code",
   "execution_count": 14,
   "id": "7bcfce4c",
   "metadata": {},
   "outputs": [
    {
     "data": {
      "text/plain": [
       "'manjit841420@gmail.com'"
      ]
     },
     "execution_count": 14,
     "metadata": {},
     "output_type": "execute_result"
    }
   ],
   "source": [
    "re.search(p, 'manjit841420@gmail.com nbfgghydgjbhd 1204').group()"
   ]
  },
  {
   "cell_type": "code",
   "execution_count": 15,
   "id": "e2b31007",
   "metadata": {},
   "outputs": [
    {
     "data": {
      "text/plain": [
       "'manjitkumarjmb102@gmail.com'"
      ]
     },
     "execution_count": 15,
     "metadata": {},
     "output_type": "execute_result"
    }
   ],
   "source": [
    "re.search(p, 'manjitkumarjmb102@gmail.com').group()"
   ]
  },
  {
   "cell_type": "markdown",
   "id": "30d5eabc",
   "metadata": {},
   "source": [
    "## Email ID with Specific Domain"
   ]
  },
  {
   "cell_type": "code",
   "execution_count": 23,
   "id": "eb0e16a0",
   "metadata": {},
   "outputs": [
    {
     "data": {
      "text/plain": [
       "<re.Match object; span=(0, 19), match='manjitkumar@jmb.org'>"
      ]
     },
     "execution_count": 23,
     "metadata": {},
     "output_type": "execute_result"
    }
   ],
   "source": [
    "mail = 'manjitkumar@jmb.org'\n",
    "\n",
    "p = '[A-Za-z0-9]+@(jmb).(org)$'\n",
    "\n",
    "re.search(p,mail)"
   ]
  },
  {
   "cell_type": "code",
   "execution_count": 27,
   "id": "87e3d1d2",
   "metadata": {},
   "outputs": [
    {
     "data": {
      "text/plain": [
       "<re.Match object; span=(0, 23), match='manjitkumar5463@jmb.org'>"
      ]
     },
     "execution_count": 27,
     "metadata": {},
     "output_type": "execute_result"
    }
   ],
   "source": [
    "re.search(p, 'manjitkumar5463@jmb.org')"
   ]
  },
  {
   "cell_type": "code",
   "execution_count": 25,
   "id": "19a5c657",
   "metadata": {},
   "outputs": [
    {
     "data": {
      "text/plain": [
       "<re.Match object; span=(0, 38), match='manjitku214hnjhfuhyjfdjmar5463@jmb.org'>"
      ]
     },
     "execution_count": 25,
     "metadata": {},
     "output_type": "execute_result"
    }
   ],
   "source": [
    "re.search(p, 'manjitku214hnjhfuhyjfdjmar5463@jmb.org')"
   ]
  },
  {
   "cell_type": "markdown",
   "id": "e1556b62",
   "metadata": {},
   "source": [
    "## Email ID with Multiple Selected Domain"
   ]
  },
  {
   "cell_type": "code",
   "execution_count": 34,
   "id": "a413e45e",
   "metadata": {},
   "outputs": [
    {
     "data": {
      "text/plain": [
       "<re.Match object; span=(0, 19), match='manjitkumar@jmb.org'>"
      ]
     },
     "execution_count": 34,
     "metadata": {},
     "output_type": "execute_result"
    }
   ],
   "source": [
    "mail = 'manjitkumar@jmb.org'\n",
    "\n",
    "p = '[A-Za-z0-9]+@[A-Za-z0-9]+.(org|com|gov|net|in|edu)'\n",
    "\n",
    "re.search(p,mail)"
   ]
  },
  {
   "cell_type": "code",
   "execution_count": 30,
   "id": "a69607eb",
   "metadata": {},
   "outputs": [
    {
     "data": {
      "text/plain": [
       "<re.Match object; span=(0, 26), match='manjitkumar43536@bhsmk.net'>"
      ]
     },
     "execution_count": 30,
     "metadata": {},
     "output_type": "execute_result"
    }
   ],
   "source": [
    "re.search(p, 'manjitkumar43536@bhsmk.net')"
   ]
  },
  {
   "cell_type": "code",
   "execution_count": 31,
   "id": "d11b9226",
   "metadata": {},
   "outputs": [
    {
     "data": {
      "text/plain": [
       "<re.Match object; span=(0, 26), match='manjitkumar43536@bhsmk.gov'>"
      ]
     },
     "execution_count": 31,
     "metadata": {},
     "output_type": "execute_result"
    }
   ],
   "source": [
    "re.search(p, 'manjitkumar43536@bhsmk.gov')"
   ]
  },
  {
   "cell_type": "code",
   "execution_count": 33,
   "id": "2c303c83",
   "metadata": {},
   "outputs": [
    {
     "data": {
      "text/plain": [
       "'manjit102@gmail.com'"
      ]
     },
     "execution_count": 33,
     "metadata": {},
     "output_type": "execute_result"
    }
   ],
   "source": [
    "re.search(p, 'manjit102@gmail.com').group()"
   ]
  },
  {
   "cell_type": "code",
   "execution_count": 39,
   "id": "15094b66",
   "metadata": {},
   "outputs": [
    {
     "name": "stdout",
     "output_type": "stream",
     "text": [
      "<re.Match object; span=(0, 16), match='eshant@gmail.com'>\n"
     ]
    }
   ],
   "source": [
    "mail = 'eshant@gmail.com'\n",
    "p = r'[A-Za-z0-9.]+@[\\w]+.\\w{3}'\n",
    "print(re.search(p, mail))"
   ]
  },
  {
   "cell_type": "code",
   "execution_count": null,
   "id": "32b4f0d8",
   "metadata": {},
   "outputs": [],
   "source": []
  }
 ],
 "metadata": {
  "kernelspec": {
   "display_name": "Python 3 (ipykernel)",
   "language": "python",
   "name": "python3"
  },
  "language_info": {
   "codemirror_mode": {
    "name": "ipython",
    "version": 3
   },
   "file_extension": ".py",
   "mimetype": "text/x-python",
   "name": "python",
   "nbconvert_exporter": "python",
   "pygments_lexer": "ipython3",
   "version": "3.11.5"
  }
 },
 "nbformat": 4,
 "nbformat_minor": 5
}
